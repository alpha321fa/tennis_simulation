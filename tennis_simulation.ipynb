{
 "cells": [
  {
   "cell_type": "code",
   "execution_count": 1,
   "metadata": {},
   "outputs": [],
   "source": [
    "# You may add additional imports here\n",
    "import random\n",
    "import matplotlib.pyplot as plt\n",
    "import csv"
   ]
  },
  {
   "cell_type": "markdown",
   "metadata": {},
   "source": [
    "Question 1\n",
    "==========\n",
    "\n",
    "All parts of Question 1 use the _point-a-rally (PARS) scoring_ system.\n",
    "\n",
    "**Question 1a:** Complete the following function so that it implements the PARS algorithm from the coursework specification.\n",
    "\n",
    "**[Functionality: 7 marks]**"
   ]
  },
  {
   "cell_type": "code",
   "execution_count": 2,
   "metadata": {},
   "outputs": [],
   "source": [
    "def game(ra, rb):\n",
    "    #Calculating probability of each player winning the game\n",
    "    p_a_wins = ra / (ra + rb)\n",
    "    p_b_wins = rb / (ra + rb)\n",
    "    #Keeping a count of the score\n",
    "    score_a = 0\n",
    "    score_b = 0\n",
    "    #Checks whether the win condition has been met\n",
    "    while not((score_a >= 11 and score_a - score_b >= 2) or (score_b >= 11 and score_b - score_a >= 2)):\n",
    "        #Stores the result of the winner of a rally\n",
    "        result = random.choices([\"a\", \"b\"], [p_a_wins, p_b_wins])[0]\n",
    "        if result == \"a\":\n",
    "            score_a += 1\n",
    "        elif result == \"b\":\n",
    "            score_b += 1\n",
    "    return (score_a, score_b)"
   ]
  },
  {
   "cell_type": "markdown",
   "metadata": {},
   "source": [
    "**Testing:** If the random seed is set to 57, then calling the function with arguments `70` and `30` should return `(11,5)`."
   ]
  },
  {
   "cell_type": "code",
   "execution_count": 3,
   "metadata": {},
   "outputs": [
    {
     "name": "stdout",
     "output_type": "stream",
     "text": [
      "(11, 5)\n"
     ]
    }
   ],
   "source": [
    "random.seed(57)\n",
    "print(game(70, 30))"
   ]
  },
  {
   "cell_type": "markdown",
   "metadata": {},
   "source": [
    "**Question 1b:** Complete the following function `win_probability_game(ra, rb, simulations)` to simulate `simulations` games in order to estimate the probability that a player with ability `ra` will win a game against a player of ability `rb`.\n",
    "\n",
    "**[Functionality: 4 marks]**"
   ]
  },
  {
   "cell_type": "code",
   "execution_count": 4,
   "metadata": {},
   "outputs": [],
   "source": [
    "def win_probability_game(ra, rb, simulations):\n",
    "    number_of_wins = 0\n",
    "    for i in range(simulations):\n",
    "        result = game(ra, rb)\n",
    "        #Checks if player a won the game\n",
    "        if result[0] > result[1]:\n",
    "            number_of_wins += 1\n",
    "    return number_of_wins / simulations\n"
   ]
  },
  {
   "cell_type": "markdown",
   "metadata": {},
   "source": [
    "**Testing:** Given sufficient simulations, calling the function with abilities `70` and `30` should give the answer `0.98` when printed to 2 decimal places."
   ]
  },
  {
   "cell_type": "code",
   "execution_count": 5,
   "metadata": {},
   "outputs": [
    {
     "name": "stdout",
     "output_type": "stream",
     "text": [
      "0.98\n"
     ]
    }
   ],
   "source": [
    "# Print win_probability_game(70, 30, print(round(winProbability(70, 30), 2))) to 2 decimal places for a suitable value of n\n",
    "print(round(win_probability_game(70, 30, 10000), 2))"
   ]
  },
  {
   "cell_type": "markdown",
   "metadata": {},
   "source": [
    "**Question 1c:** Assume players abilities are given in a csv file with the format:\n",
    "```\n",
    "player a ability, player b ability,\n",
    "60, 20,\n",
    "100, 55,\n",
    "50, 40,\n",
    "20, 70,\n",
    "95, 85,\n",
    "```\n",
    "Complete the following function to read in a specified csv file of this format and return a `list` of `tuple`s containing each pair of abilities.\n",
    "\n",
    "**[Functionality: 4 marks]**"
   ]
  },
  {
   "cell_type": "code",
   "execution_count": 6,
   "metadata": {},
   "outputs": [],
   "source": [
    "def read_abilities(file): # HINT: what should the argument be?\n",
    "    abilities_list = []\n",
    "    with open(file, \"r\") as test:\n",
    "        abilities = csv.reader(test)\n",
    "        for row in abilities:\n",
    "            #Stops the first row in the csv file that contains string to be added to the list\n",
    "            try:\n",
    "                abilities_list.append((int(row[0]), int(row[1])))\n",
    "            except ValueError:\n",
    "                pass\n",
    "    return abilities_list\n",
    "        "
   ]
  },
  {
   "cell_type": "markdown",
   "metadata": {},
   "source": [
    "**Testing:** Calling the function to read the file `test.csv` from Learning Central should return `[(60, 20), (100, 55), (50, 40), (20, 70), (95, 85)]`"
   ]
  },
  {
   "cell_type": "code",
   "execution_count": 7,
   "metadata": {},
   "outputs": [
    {
     "data": {
      "text/plain": [
       "[(60, 20), (100, 55), (50, 40), (20, 70), (95, 85)]"
      ]
     },
     "execution_count": 7,
     "metadata": {},
     "output_type": "execute_result"
    }
   ],
   "source": [
    "# Print the result of calling the function for the file `test.csv`\n",
    "read_abilities(\"test.csv\")"
   ]
  },
  {
   "cell_type": "markdown",
   "metadata": {},
   "source": [
    "**Question 1d:** Write a function that takes a `list` of the format returned by your answer to 1c as an argument, and uses `matplotlib` to produce a plot (with labelled axes) showing the probability that player a beats player b (in a game) against `ra / r_b` for each pair.\n",
    "\n",
    "**[Functionality: 5 marks]**"
   ]
  },
  {
   "cell_type": "code",
   "execution_count": 8,
   "metadata": {},
   "outputs": [],
   "source": [
    "def plot_win_probabilities(abilities_list): # HINT: what should the argument be?\n",
    "    p_a_wins = []\n",
    "    ra_over_rb = []\n",
    "    for pair in abilities_list:\n",
    "        p_a_wins.append(round(win_probability_game(pair[0], pair[1], 1000), 2))\n",
    "        ra_over_rb.append(round(pair[0] / pair[1] , 2))\n",
    "    plt.scatter(ra_over_rb, p_a_wins)\n",
    "    plt.xlabel(\"ra/rb\")\n",
    "    plt.ylabel(\"Probability a wins\")\n",
    "    plt.show()\n"
   ]
  },
  {
   "cell_type": "markdown",
   "metadata": {},
   "source": [
    "**Testing:** The following figure (or similar) should result from the data `[(60, 20), (100, 55), (50, 40), (20, 70), (95, 85)]'\n",
    "\n",
    "<img src=\"./win_probabilities.png\" alt=\"Win probabilities\" width=\"500\">\n"
   ]
  },
  {
   "cell_type": "code",
   "execution_count": 9,
   "metadata": {},
   "outputs": [
    {
     "data": {
      "image/png": "[encoded data removed]",
      "text/plain": [
       "<Figure size 432x288 with 1 Axes>"
      ]
     },
     "metadata": {
      "needs_background": "light"
     },
     "output_type": "display_data"
    }
   ],
   "source": [
    "# Call the function to plot the figure here\n",
    "plot_win_probabilities([(60, 20), (100, 55), (50, 40), (20, 70), (95, 85)])"
   ]
  },
  {
   "cell_type": "markdown",
   "metadata": {},
   "source": [
    "**Question 1e:** Complete the following function `win_probability_match(ra, rb, simulations, m)` to simulate `simulations` matches which are won by the first player to win `m` games, and returns an estimate of the probability that a player with ability `ra` will win such a match against a player of ability `rb`.\n",
    "\n",
    "Provide code that works out the smallest value of `m` such that `win_probability_match(60, 40, simulations, m)` is at least `0.9`. \n",
    "\n",
    "_HINT: make sure you use an appropriate value for `simulations`._\n",
    "\n",
    "**[Functionality: 5 marks]**"
   ]
  },
  {
   "cell_type": "code",
   "execution_count": 10,
   "metadata": {},
   "outputs": [
    {
     "name": "stdout",
     "output_type": "stream",
     "text": [
      "2\n"
     ]
    }
   ],
   "source": [
    "def win_probability_match(ra, rb, simulations, m):\n",
    "    number_of_wins = 0\n",
    "    #Simulating the number of matches in a for loop\n",
    "    for i in range(simulations):\n",
    "        #Storing how many games a player has won\n",
    "        a_wins = 0\n",
    "        b_wins = 0\n",
    "        #Simulating games until a player has won enough to win the match\n",
    "        while a_wins != m and b_wins != m:\n",
    "            result = game(ra, rb)\n",
    "            if result[0] > result[1]:\n",
    "                a_wins += 1\n",
    "            else:\n",
    "                b_wins += 1\n",
    "        #If a wins the match, the number of match wins for a increases by one\n",
    "        if a_wins > b_wins:\n",
    "            number_of_wins += 1\n",
    "    return number_of_wins / simulations\n",
    "            \n",
    "        \n",
    "# Calculate lowest value of m here\n",
    "m = 0\n",
    "while win_probability_match(60, 40, 500, m) < 0.9:\n",
    "    m += 1\n",
    "print(m)"
   ]
  },
  {
   "cell_type": "markdown",
   "metadata": {},
   "source": [
    "Question 2\n",
    "==========\n",
    "\n",
    "Complete the remaining template of a scientific report that uses the results of simulation (with suitable input data) to investigate whether English or PARS is the ``better'' scoring method for squash matches. \n",
    "\n",
    "You should clearly state any assumptions you make, and may add any number of code cells. Guidance for completing the markdown/text cells is given in the coursework specification. The word count of the remaining markdown/text cells must be at most 750.\n",
    "\n",
    "Your investigation should consider the relative ability of the two players (i.e. `ra/rb`) as the _independent variable_ and include appropriate figures that show how your choice of relevant _dependent variable_ varies. Your results **must** cover at least 50 different values of `ra/rb`.\n",
    "\n",
    "Some starting points you may consider:\n",
    "- How _fair_ is the scoring method - does the better player usually win?\n",
    "- Shorter matches are usually preferable (e.g. for television) - if you assume each rally in a match takes equal time, how long do matches typically last?\n",
    "- What effect does the relative ability of the two players have?\n",
    "\n",
    "**[Report: 7 marks; Achievement: 8 marks]**"
   ]
  },
  {
   "cell_type": "markdown",
   "metadata": {},
   "source": [
    "## Problem"
   ]
  },
  {
   "cell_type": "markdown",
   "metadata": {},
   "source": [
    "I am investigating whether the English or the PARS scoring system is the better method for scoring games of squash. These methods are commonly used to score games of squash so I decided to compare the probability of winning a match given a player's level of ability. The better system will be the system that is more skill dependent. This will be determined by comparing the probability of winning a match given a player's ability with both scoring systems. My prediction is that the PARS system will be better because players are able to win points whether they are the server or the returner meaning that the chance of scoring a point is dependent on the player's ability as the server and returner. The player also needs to be ahead by two points to win the game unlike the English system where there is a fixed number of points required to win the game. The better player should ideally be ahead of the opponent by more than one point."
   ]
  },
  {
   "cell_type": "markdown",
   "metadata": {},
   "source": [
    "## Method"
   ]
  },
  {
   "cell_type": "markdown",
   "metadata": {},
   "source": [
    "To determine which system is better, I will be simulating matches of squash. Firstly, I need to represent a player's ability by using an integer between 0 and 100. Then, the probability of a player winning a point will be calculated by dividing one player's ability by the sum of the abilities of both players. The probabilities will then be used to determine which player earns the point and this will continue until the win conditions are met. I will then measure the probability of winning a match given a player's ability by dividing the number of matches a player has won by the number of matches simulated. I will be changing one of the players' ability throughout the simulations from 0 to 100 and I will be keeping the other players' ability the same at 50 to measure whether the probability is lower or higher when the player's ability is lower and higher in comparison."
   ]
  },
  {
   "cell_type": "code",
   "execution_count": 11,
   "metadata": {},
   "outputs": [],
   "source": [
    "#PARS Scoring System\n",
    "def pars_game(ra, rb):\n",
    "    #Calculating probability of each player winning the game\n",
    "    p_a_wins = ra / (ra + rb)\n",
    "    p_b_wins = rb / (ra + rb)\n",
    "    #Keeping a count of the score\n",
    "    score_a = 0\n",
    "    score_b = 0\n",
    "    #Checks whether the win condition has been met\n",
    "    while not((score_a >= 11 and score_a - score_b >= 2) or (score_b >= 11 and score_b - score_a >= 2)):\n",
    "        #Stores the result of the winner of a rally\n",
    "        result = random.choices([\"a\", \"b\"], [p_a_wins, p_b_wins])[0]\n",
    "        if result == \"a\":\n",
    "            score_a += 1\n",
    "        elif result == \"b\":\n",
    "            score_b += 1\n",
    "    return (score_a, score_b)\n",
    "\n",
    "#English scoring system - Start coding on this next time\n",
    "def english_game(ra, rb):\n",
    "    #Calculating probability of each player winning the game\n",
    "    p_a_wins = ra / (ra + rb)\n",
    "    p_b_wins = rb / (ra + rb)\n",
    "    #Keeping a count of the score\n",
    "    score_a = 0\n",
    "    score_b = 0\n",
    "    #Deciding who the server is\n",
    "    server = random.choice([\"a\", \"b\"])\n",
    "    if server == \"a\":\n",
    "        a_is_server = True\n",
    "        b_is_server = False\n",
    "    elif server == \"b\":\n",
    "        b_is_server = True\n",
    "        a_is_server = False\n",
    "    #Checks whether the win condition has been met\n",
    "    while score_a != 9 and score_b != 9:\n",
    "        #Checks if the players have both reached 8 points\n",
    "        if score_a == 8 and score_b == 8:\n",
    "            end_score = random.choice([9, 10])\n",
    "            while score_a != end_score and score_b != end_score:\n",
    "                if result == \"a\":\n",
    "                    if a_is_server:\n",
    "                        score_a += 1\n",
    "                    else:\n",
    "                        a_is_server, b_is_server = b_is_server, a_is_server\n",
    "                elif result == \"b\":\n",
    "                    if b_is_server:\n",
    "                        score_b += 1\n",
    "                    else:\n",
    "                        a_is_server, b_is_server = b_is_server, a_is_server\n",
    "            break\n",
    "        #Stores the result of the winner of a rally\n",
    "        result = random.choices([\"a\", \"b\"], [p_a_wins, p_b_wins])[0]\n",
    "        #Checking if the player who scored is the server and giving them a point if they are\n",
    "        if result == \"a\":\n",
    "            if a_is_server:\n",
    "                score_a += 1\n",
    "            else:\n",
    "                a_is_server, b_is_server = b_is_server, a_is_server\n",
    "        elif result == \"b\":\n",
    "            if b_is_server:\n",
    "                score_b += 1\n",
    "            else:\n",
    "                a_is_server, b_is_server = b_is_server, a_is_server\n",
    "    return (score_a, score_b)\n",
    "\n",
    "def win_probability_match(ra, rb, simulations, m, game):\n",
    "    number_of_wins = 0\n",
    "    #Simulating the number of matches in a for loop\n",
    "    for i in range(simulations):\n",
    "        #Storing how many games a player has won\n",
    "        a_wins = 0\n",
    "        b_wins = 0\n",
    "        #Simulating games until a player has won enough to win the match\n",
    "        if game == \"PARS\":\n",
    "            while a_wins != m and b_wins != m:\n",
    "                result = pars_game(ra, rb)\n",
    "                if result[0] > result[1]:\n",
    "                    a_wins += 1\n",
    "                else:\n",
    "                    b_wins += 1\n",
    "        elif game == \"English\":\n",
    "            while a_wins != m and b_wins != m:\n",
    "                result = english_game(ra, rb)\n",
    "                if result[0] > result[1]:\n",
    "                    a_wins += 1\n",
    "                else:\n",
    "                    b_wins += 1\n",
    "        #If a wins the match, the number of match wins for a increases by one\n",
    "        if a_wins > b_wins:\n",
    "            number_of_wins += 1\n",
    "    return number_of_wins / simulations\n"
   ]
  },
  {
   "cell_type": "markdown",
   "metadata": {},
   "source": [
    "## Assumptions"
   ]
  },
  {
   "cell_type": "markdown",
   "metadata": {},
   "source": [
    "I have made the assumption that a player's ability can be modelled using an integer between 0 and 100. Therefore, the simulations are less likely to represent a real game making the results less reliable. I assumed that a player's ability would not change throughout the simulations. While the simulations are less likely to represent a real game, this assumption allows a player's ability to act as an average representation throughout a game, which should make the results more reliable. I also assumed that the player's ability as a server and a returner is the same. A player should normally have an advantage as a server so my simulations will not represent this which consequently, makes the results less reliable."
   ]
  },
  {
   "cell_type": "markdown",
   "metadata": {},
   "source": [
    "# Results"
   ]
  },
  {
   "cell_type": "code",
   "execution_count": 12,
   "metadata": {},
   "outputs": [
    {
     "data": {
      "image/png": "[encoded data removed]",
      "text/plain": [
       "<Figure size 432x288 with 1 Axes>"
      ]
     },
     "metadata": {
      "needs_background": "light"
     },
     "output_type": "display_data"
    }
   ],
   "source": [
    "pars_probability = [win_probability_match(i, 50, 1000, 10, \"PARS\") for i in range(101)]\n",
    "pars_abilities = [i for i in range(101)]\n",
    "plt.plot(pars_abilities, pars_probability)\n",
    "plt.title('Probability of Winning a Match PARS')\n",
    "plt.xlabel(\"Player's Ability\")\n",
    "plt.ylabel(\"Probability\")\n",
    "plt.show()"
   ]
  },
  {
   "cell_type": "code",
   "execution_count": 13,
   "metadata": {},
   "outputs": [
    {
     "data": {
      "image/png": "[encoded data removed]",
      "text/plain": [
       "<Figure size 432x288 with 1 Axes>"
      ]
     },
     "metadata": {
      "needs_background": "light"
     },
     "output_type": "display_data"
    }
   ],
   "source": [
    "english_probability = [win_probability_match(i, 50, 1000, 10, \"English\") for i in range(101)]\n",
    "english_abilities = [i for i in range(101)]\n",
    "plt.plot(english_abilities, english_probability)\n",
    "plt.title('Probability of Winning a Match English')\n",
    "plt.xlabel(\"Player's Ability\")\n",
    "plt.ylabel(\"Probability\")\n",
    "plt.show()"
   ]
  },
  {
   "cell_type": "code",
   "execution_count": 14,
   "metadata": {},
   "outputs": [
    {
     "data": {
      "image/png": "[encoded data removed]",
      "text/plain": [
       "<Figure size 432x288 with 1 Axes>"
      ]
     },
     "metadata": {
      "needs_background": "light"
     },
     "output_type": "display_data"
    }
   ],
   "source": [
    "plt.plot(pars_abilities[40:61], pars_probability[40:61], label=\"PARS\")\n",
    "plt.plot(english_abilities[40:61], english_probability[40:61], label=\"English\")\n",
    "plt.title('Probability of Winning a Match')\n",
    "plt.xlabel(\"Player's Ability\")\n",
    "plt.ylabel(\"Probability\")\n",
    "plt.legend()\n",
    "plt.show()"
   ]
  },
  {
   "cell_type": "markdown",
   "metadata": {},
   "source": [
    "I ran simulations for the PARS and the English system and I plotted both results on graphs. Both of these graphs look similar when all points have been plotted. The only noticeable part of both graphs are between the abilities 40 and 60. The graph before  40 shows that the chance of winning a match is zero. The graph after 60 shows that the player's chance of winning is close to 100%. The probability starts increasing when the ability goes above 40 and peaks after 60. This suggests that both players have a chance of winning when the difference between the abilities is less than ten. I used the results between the abilities 40 and 60 to plot another graph. From the new graph, it is evident that the chance of a player winning with the English system is lower than the PARS system below 50 and is usually higher above 50."
   ]
  },
  {
   "cell_type": "markdown",
   "metadata": {},
   "source": [
    "## Conclusions"
   ]
  },
  {
   "cell_type": "markdown",
   "metadata": {},
   "source": [
    "I simulated matches of squash with the English and the PARS system to determine which system is better. I created functions that simulate matches of squash to find the probability of winning a match given a player's ability. In conclusion, the English system is better than the PARS system. From my results, it is evident that the better player is more likely to win with the English system. The way the player's ability has been modelled has affected the output because it is hard to measure a player's ability just by using numbers. The player's ability can be affected by other factors like the player's stamina and how well the player is feeling during the match. To improve, I could find a better way to model the player's ability and implement a way to have a player's ability change throughout a game. This would make the results more representative of a real game."
   ]
  }
 ],
 "metadata": {
  "interpreter": {
   "hash": "183b6f3dd52b9ae2bd385afe1588cc6cf56d78005d888e2b09b3c195f16f84ec"
  },
  "kernelspec": {
   "display_name": "Python 3 (ipykernel)",
   "language": "python",
   "name": "python3"
  },
  "language_info": {
   "codemirror_mode": {
    "name": "ipython",
    "version": 3
   },
   "file_extension": ".py",
   "mimetype": "text/x-python",
   "name": "python",
   "nbconvert_exporter": "python",
   "pygments_lexer": "ipython3",
   "version": "3.10.0"
  }
 },
 "nbformat": 4,
 "nbformat_minor": 2
}
